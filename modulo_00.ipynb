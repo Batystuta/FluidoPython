{
 "cells": [
  {
   "cell_type": "markdown",
   "metadata": {
    "collapsed": true
   },
   "source": [
    "###### Conteúdo fornecido sob licença MIT. (c) 2018 Batystuta Rocha. Obrigado: Prof. Edith Beatriz pelo apoio ao conhecimento, muito obrigado."
   ]
  },
  {
   "cell_type": "markdown",
   "metadata": {},
   "source": [
    "##### Versão 1.0 novembro 2018"
   ]
  },
  {
   "cell_type": "markdown",
   "metadata": {},
   "source": [
    "# Módulo 0. Introdução e Revisão"
   ]
  },
  {
   "cell_type": "markdown",
   "metadata": {},
   "source": [
    "Este é o primeiro notebook do material FluidoPython, para Escoamento Potencial. Se você não estiver familiarizado com a computação numérica usando o Python, primeiro estude as ferramentas científica em Python, recomendada como \"lição zero\" deste material.\n",
    "\n",
    "Você pode ler e acompanhar este caderno on-line, enquanto digita o código em seu próprio bloco de anotações Jupyter limpo ou em um arquivo \".py\" no seu editor Python favorito. De qualquer maneira, certifique-se de experimentar os códigos e escrever suas próprias versões e assim ampliando o seu conhecimento!"
   ]
  },
  {
   "cell_type": "markdown",
   "metadata": {},
   "source": [
    "> *1. Introdução rápida*"
   ]
  },
  {
   "cell_type": "markdown",
   "metadata": {},
   "source": [
    "A mecânica dos fluidos é um tema excitante e fascinante, com aplicações práticas ilimitadas que variam de sistema biológicos microscópicos a automóveis, aviões e propulsão de aeronaves. Contudo, ela é também, historicamente, um dos assuntos mais desafiadores para os estudantes universitários. Dessa maneira, é importantíssimo o uso extensivo de imagens como um instrumento de aprendizagem que ajuda o aluno a entender a matéria."
   ]
  },
  {
   "cell_type": "markdown",
   "metadata": {},
   "source": [
    "> *2. Conceitos sobre campo potencial de velocidades*"
   ]
  },
  {
   "cell_type": "markdown",
   "metadata": {},
   "source": [
    "Lembre-se que, se os efeitos viscosos são desprezados, os escoamentos a baixas velocidades são irrotacionais, $\\bigtriangledown \\times V = 0$, existindo o potencial de velocidades $\\phi$ tal que\n",
    "\n",
    "$\\mathbf{V} = \\bigtriangledown \\phi$   ou   $\\mathit{u} = \\frac{\\partial \\phi }{\\partial x}$ \t$\\mathit{v} = \\frac{\\partial \\phi }{\\partial y}$ \t$\\mathit{w} = \\frac{\\partial \\phi }{\\partial z}$\n",
    "\n",
    "A equação da continuidade, $\\bigtriangledown V = 0$, reduz-se à equação de Laplace para $\\phi$:\n",
    "\n",
    "$$\\bigtriangledown ^{2} \\phi = \\frac{\\partial^2 \\phi}{\\partial x^2} + \\frac{\\partial^2 \\phi}{\\partial y^2} + \\frac{\\partial^2 \\phi}{\\partial z^2} = 0$$"
   ]
  },
  {
   "cell_type": "markdown",
   "metadata": {},
   "source": [
    "> *3. Conceitos sobre função corrente* "
   ]
  },
  {
   "cell_type": "markdown",
   "metadata": {},
   "source": [
    "Relembre que, se um escoamento é descrito por apenas duas coordenadas, também existe a função corrente $\\psi$ como uma opção de abordagem. Para escoamentos incompressíveis planos, em coordenadas $\\mathit{xy}$, a forma correta é:\n",
    "\n",
    "$$\\mathit{u} = \\frac{\\partial \\psi }{\\partial x} \\mathit{v} = - \\frac{\\partial \\psi }{\\partial y}$$\n",
    "\n",
    "A condição de irrotacionalidade também reduz-se à equação de Laplace para $\\psi$:\n",
    "\n",
    "$$2\\omega _{z} = 0 = \\frac{\\partial v}{\\partial x} - \\frac{\\partial u}{\\partial y} = \\frac{\\partial }{\\partial x}\\left ( -\\frac{\\partial \\psi}{\\partial x} \\right ) - \\frac{\\partial }{\\partial y}\\left ( \\frac{\\partial \\psi}{\\partial y} \\right )$$\n",
    "\n",
    "ou \n",
    "$$\\frac{\\partial^2 \\psi}{\\partial x^2} + \\frac{\\partial^2 \\psi}{\\partial y^2} = 0$$\n",
    "\n",
    "Para as aplicações deste material, podemos calcular tanto o $\\phi$ como $\\psi$, ou ambas, e a solução correspondente será uma *rede de escoamento ortogonal*, como na figura abaixo.\n",
    "![Linhas de correntes e equipotenciais são ortogonais](https://www.google.com.br/url?sa=i&source=images&cd=&cad=rja&uact=8&ved=2ahUKEwi-i4_QitLeAhXKPpAKHQEvBOwQjRx6BAgBEAU&url=https%3A%2F%2Fwww.ebah.com.br%2Fcontent%2FABAAAA0GIAB%2Fmovimento-das-aguas-no-solo-percolacao&psig=AOvVaw1Gc2PwLlWPiV24w8hrKpt7&ust=1542223027218759)\n",
    "\n"
   ]
  },
  {
   "cell_type": "code",
   "execution_count": null,
   "metadata": {},
   "outputs": [],
   "source": []
  }
 ],
 "metadata": {
  "kernelspec": {
   "display_name": "Python 2",
   "language": "python",
   "name": "python2"
  },
  "language_info": {
   "codemirror_mode": {
    "name": "ipython",
    "version": 2
   },
   "file_extension": ".py",
   "mimetype": "text/x-python",
   "name": "python",
   "nbconvert_exporter": "python",
   "pygments_lexer": "ipython2",
   "version": "2.7.6"
  }
 },
 "nbformat": 4,
 "nbformat_minor": 0
}
