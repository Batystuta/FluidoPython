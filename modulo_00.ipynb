{
 "cells": [
  {
   "cell_type": "markdown",
   "metadata": {},
   "source": [
    "###### Conteúdo fornecido sob licença MIT. (c) 2018 Batystuta Rocha. Obrigado: Prof. Edith Beatriz pelo apoio ao conhecimento, muito obrigado.\n",
    "\n",
    "##### Versão 1.0 novembro 2018\n",
    "\n",
    "# Módulo 0. Introdução e Revisão\n",
    "\n",
    "<span style=\"font-family:helvetica; font-size:1.2em;\">Este é o primeiro notebook do material FluidoPython, para Escoamento Potencial. Se você não estiver familiarizado com a computação numérica usando o Python, primeiro estude as ferramentas científica em Python, recomendada como \"lição zero\" deste material.</span>\n",
    "\n",
    "<span style=\"font-family:helvetica; font-size:1.2em;\">Você pode ler e acompanhar este caderno on-line, enquanto digita o código em seu próprio bloco de anotações Jupyter limpo ou em um arquivo \".py\" no seu editor Python favorito. De qualquer maneira, certifique-se de experimentar os códigos e escrever suas próprias versões e assim ampliando o seu conhecimento!</span>\n",
    "\n",
    "> ## *1. Introdução rápida*\n",
    "\n",
    "<span style=\"font-family:helvetica; font-size:1.2em;\">A mecânica dos fluidos é um tema excitante e fascinante, com aplicações práticas ilimitadas que variam de sistema biológicos microscópicos a automóveis, aviões e propulsão de aeronaves. Contudo, ela é também, historicamente, um dos assuntos mais desafiadores para os estudantes universitários. Dessa maneira, é importantíssimo o uso extensivo de imagens como um instrumento de aprendizagem que ajuda o aluno a entender a matéria.\n",
    "\n",
    "> ## *2. Conceitos sobre campo potencial de velocidades*\n",
    "\n",
    "<span style=\"font-family:lucida grande; font-size:1.2em;\">Lembre-se que, se os efeitos viscosos são desprezados, os escoamentos a baixas velocidades são irrotacionais, $\\bigtriangledown \\times V = 0$, existindo o potencial de velocidades $\\phi$ tal que\n",
    "\n",
    "$\\mathbf{V} = \\bigtriangledown \\phi$   ou   $\\mathit{u} = \\frac{\\partial \\phi }{\\partial x}$ \t$\\mathit{v} = \\frac{\\partial \\phi }{\\partial y}$ \t$\\mathit{w} = \\frac{\\partial \\phi }{\\partial z}$\n",
    "\n",
    "<span style=\"font-family:lucida grande; font-size:1.2em;\">A equação da continuidade, $\\bigtriangledown V = 0$, reduz-se à equação de Laplace para $\\phi$:\n",
    "\n",
    "$$\\bigtriangledown ^{2} \\phi = \\frac{\\partial^2 \\phi}{\\partial x^2} + \\frac{\\partial^2 \\phi}{\\partial y^2} + \\frac{\\partial^2 \\phi}{\\partial z^2} = 0$$\n",
    "\n",
    "> ## *3. Conceitos sobre função corrente* \n",
    "\n",
    "Relembre que, se um escoamento é descrito por apenas duas coordenadas, também existe a função corrente $\\psi$ como uma opção de abordagem. Para escoamentos incompressíveis planos, em coordenadas $\\mathit{xy}$, a forma correta é:\n",
    "\n",
    "$$\\mathit{u} = \\frac{\\partial \\psi }{\\partial x} \\mathit{v} = - \\frac{\\partial \\psi }{\\partial y}$$\n",
    "\n",
    "A condição de irrotacionalidade também reduz-se à equação de Laplace para $\\psi$:\n",
    "\n",
    "$$2\\omega _{z} = 0 = \\frac{\\partial v}{\\partial x} - \\frac{\\partial u}{\\partial y} = \\frac{\\partial }{\\partial x}\\left ( -\\frac{\\partial \\psi}{\\partial x} \\right ) - \\frac{\\partial }{\\partial y}\\left ( \\frac{\\partial \\psi}{\\partial y} \\right )$$\n",
    "\n",
    "ou \n",
    "$$\\frac{\\partial^2 \\psi}{\\partial x^2} + \\frac{\\partial^2 \\psi}{\\partial y^2} = 0$$\n",
    "\n",
    "Para as aplicações deste material, podemos calcular tanto o $\\phi$ como $\\psi$, ou ambas, e a solução correspondente será uma *rede de escoamento ortogonal*, como na figura abaixo.\n",
    "![Linhas de correntes e equipotenciais são ortogonais](http://s3.amazonaws.com/magoo/ABAAAA0GIAB-1.jpg)\n",
    "\n",
    "Muitas soluções são convenientemente expressas em coordenadas polares $(r,\\theta)$. Os componentes de velocidade e as relações diferenciais para as funções $\\phi$ e $\\psi$ são alterados para as seguintes formas:\n",
    "\n",
    "equação equação\n",
    "\n",
    "A equação de Laplace assume a seguinte forma:\n",
    "\n",
    "equação equação\n",
    "\n",
    "Para $\\psi(r,\\theta)$, a mesma equação vale exatamente em termos de coordenadas polares:\n",
    "\n",
    "equação equação\n",
    "\n",
    "Um aspecto intrigante do escoamento potencial sem superfície livre é que tanto as equações governantes, equação de Laplace para $\\psi$ e $\\phi$ não contêm parâmetros. Logo, as soluções são puramente geométricas, dependendo apenas do formato do corpo, da orientação da corrente livre e - surpreendentemente - da posição do ponto de estagnação traseiro. Não há número de Reynolds, Froude ou Mach para complicar a semelhança dinâmica. Os escoamentos não viscosos são cinematicamente semelhantes sem parâmetros adicionais."
   ]
  },
  {
   "cell_type": "code",
   "execution_count": null,
   "metadata": {},
   "outputs": [],
   "source": []
  }
 ],
 "metadata": {
  "kernelspec": {
   "display_name": "Python 2",
   "language": "python",
   "name": "python2"
  },
  "language_info": {
   "codemirror_mode": {
    "name": "ipython",
    "version": 2
   },
   "file_extension": ".py",
   "mimetype": "text/x-python",
   "name": "python",
   "nbconvert_exporter": "python",
   "pygments_lexer": "ipython2",
   "version": "2.7.6"
  }
 },
 "nbformat": 4,
 "nbformat_minor": 0
}
