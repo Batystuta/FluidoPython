{
 "cells": [
  {
   "cell_type": "markdown",
   "metadata": {},
   "source": [
    "# Módulo 1. Soluções Elementares de Escoamento Plano Irrotacional\n",
    "\n",
    "<span style=\"font-family:Papyrus; font-size:4em;\">Este tópico apresento um estudo introdutório detalhado dos escoamentos incompressíveis não viscosos, especialmente aqueles que possuem ambas as funções, corrente e potencial de velocidades. Muitas soluções empregam o princípio da superposição, de modo que destaquei esse tipo de solução em um único módulo para melhor detalhe. Aqui vamos começar com os três escoamentos elementares, ilustrados na figura abaixo: (a) uma corrente uniforme em certa direção, (b) uma linha de fonte / sumidouro na origem e (c) uma linha de vórtice na origem.</span>"
   ]
  },
  {
   "cell_type": "markdown",
   "metadata": {},
   "source": [
    "<h1>Módulo 1. Soluções Elementares de Escoamento Plano Irrotacional</h1>\n",
    "<p>Este tópico apresento um estudo introdutório detalhado dos escoamentos incompressíveis não viscosos, especialmente aqueles que possuem ambas as funções, corrente e potencial de velocidade. Muitas soluções empregam o princípio da superposição, de modo que destaquei esse tipo de solução em um único módulo para melhor detalhe. Aqui vamos começar com os três escoamentos elementares, ilustrados na figura abaixo: (a) uma corrente uniforme em certa direção, (b) uma linha de fonte / sumidouro na origem e (c) uma linha de vórtice na origem.</p>\n",
    "<p><img src='file://C:/MECANICA_DE_FLUIDOS_python/Script_Prof_Edith/FluidoPython/Tres_Escoamento_Elementares.PNG' alt='Linhas de correntes elementares' referrerPolicy='no-referrer' /></p>\n",
    "<h2><em>1. Corrente uniforme em certa direção</em></h2>\n",
    "<p>O escoamento elementar mais simples em que podemos pensar é uma corrente uniforme</p>\n",
    "<p class='md-math-block'>$\n",
    "V = iU,\n",
    "$</p>\n",
    "<p>como o primeiro esquema da figura acima, movendo-se com velocidade constante U na direção $(x)$ (da esquerda para direita). E que tem tanto uma função corrente como uma função potencial de velocidades, as quais podem ser encontradas da seguinte maneira:</p>\n",
    "<p class='md-math-block'>$\n",
    "u = U = \\frac{\\partial \\phi}{\\partial x} = \\frac{\\partial \\psi}{\\partial y} \\&gt;\\&gt;\\&gt;\\&gt;\\&gt;\n",
    "v = 0 = \\frac{\\partial \\phi}{\\partial y} = -\\frac{\\partial \\psi}{\\partial x}\n",
    "$</p>\n",
    "<p>Integrando a primeira dessas equações com relação a $(x)$ e depois diferenciando o resultado em relação a $(y)$, geramos uma expressão para a função potencial de velocidade para uma corrente uniforme:</p>\n",
    "<p class='md-math-block'>$\n",
    "\\phi = Ux + f(y) \\&gt;\\&gt;\\&gt; --&gt; \\&gt;\\&gt;\\&gt; v = \\frac{\\partial \\phi}{\\partial y} = f^{&#39;}(y) = 0 \\&gt;\\&gt;\\&gt; --&gt; \\&gt;\\&gt;\\&gt; f(y) = constante\n",
    "$</p>\n",
    "<p>A constante é arbitrária, já que as componentes da velocidade são sempre derivadas de $\\psi$. Fazemos a constante igual a zero, sabendo que podemos sempre adicionar uma constante arbitrária mais tarde se desejarmos. Portanto:</p>\n",
    "<p><em>Função potencial de velocidade para uma corrente uniforme:</em> \t$\\phi = Ux$</p>\n",
    "<p>De maneira similar geramos uma expressão para a função de corrente para esse escoamento irrotacional planar elementar:</p>\n",
    "<p>Função de corrente para uma corrente uniforme:* \t$\\psi = Uy$</p>\n",
    "<p>As linhas de corrente são linhas retas horizontais $(y = const)$, e as linhas equipotenciais são verticais $(x = const)$, ou seja, ortogonais às linhas de corrente, como se esperava.</p>\n",
    "<p>Muitas vezes é conveniente expressar a função de corrente e a função potencial de velocidade em coordenadas cilíndricas em vez de coordenadas cartesianas, particularmente quando formos sobrepor uma corrente uniforme a algum outro escoamento irrotacional planar. As relações de conversão são obtidas da geometria da figura abaixo:</p>\n",
    "<p class='md-math-block'>$\n",
    "x = r \\cos(\\theta) \\&gt;\\&gt;\\&gt;\\&gt; y = r \\sin(\\theta) \\&gt;\\&gt;\\&gt;\\&gt; r = \\sqrt(x^{3} + y^{3})\n",
    "$</p>\n",
    "<p>Com as equações acima e um pouco de trigonometria, deduzimos relações para $u$ e $v$ em termos de coordenadas cilíndricas:</p>\n",
    "<p class='md-math-block'>$\n",
    "u = [u_{r} \\cos(\\theta) - u_{\\theta} \\sin(\\theta)] \\&gt;\\&gt;\\&gt;\\&gt;\\&gt; v = [u_{r} \\sin(\\theta) - u_{\\theta} \\cos(\\theta)]\n",
    "$</p>\n",
    "<p>Em coordenadas cilíndricas, a função $\\psi$ e $\\phi$ tornam-se</p>\n",
    "<p class='md-math-block'>$\n",
    "\\phi = U \\&gt; r \\cos(\\theta) \\&gt;\\&gt;\\&gt;\\&gt; \\psi = U \\&gt; r \\sin(\\theta)\n",
    "$</p>\n",
    "<h2><em>2. Linha de fonte ou sumidouro na origem</em></h2>\n",
    "<p>Nosso segundo escoamento elementar é uma linha de fonte localizada na origem do plano $(xy)$, com a própria linha coincidindo com o eixo $(z)$. Suponha que o eixo $(z)$ seja uma espécie de tubo distribuidor bem fino, por meio do qual o fluido seria emitido uniformemente a uma vazão total $(Q)$ ao longo de seu comprimento $(b)$. Observando o plano $(xy)$, veríamos um escoamento radial cilíndrico para fora, ou fonte, como esboça o segundo esquema da figura apresentada. As coordenadas polares no plano são adequadas, pois não há velocidade circunferencial e a qualquer distância radial $(r)$ da linha de fonte, a componente radial da velocidade, $(u_{r})$ pode ser determinada aplicando-se o princípio da conservação da massa. Isto é, toda a vazão em volume por unidade de profundidade da linha de fonte deve passar através do círculo definido pelo raio $(r)$ . Assim:</p>\n",
    "<p class='md-math-block'>$\n",
    "\\frac{Q}{b} = 2\\pi r u_{r} \\&gt;\\&gt;\\&gt;\\&gt;\\&gt;  u_{r} = \\frac {Q/b}{2\\pi r}\n",
    "$</p>\n",
    "<p class='md-math-block'>$\n",
    "u_{r} = \\frac {Q/b}{2\\pi r} = \\frac{m}{r}=\\frac{1}{r}\\frac{\\partial \\psi}{\\partial \\theta} = \\frac{\\partial \\phi}{\\partial r} \\&gt;\\&gt;\\&gt;\\&gt;\\&gt; \n",
    "u_{\\theta} = 0 = -\\frac{\\partial \\psi}{\\partial r} = \\frac{1}{r} \\frac{\\partial \\phi}{\\partial \\theta}\n",
    "$</p>\n",
    "<p>Usando coordenadas cilíndricas no termo da velocidade radial, e também reconhecendo que $(u_{\\theta})$ é zero em todos os pontos e que $m = Q/(2\\pi b)$ é uma constante, positiva para uma fonte, negativa para um sumidouro. Integrando e descartando outra vez as constantes de integração, obtemos as funções apropriadas para esse escoamento radial simples:</p>\n",
    "<p class='md-math-block'>$\n",
    "\\psi = m \\theta \\&gt;\\&gt;\\&gt;\\&gt;\\&gt; \\phi = m \\ln r\n",
    "$</p>\n",
    "<p>Como mostrado no segundo esquema, as linhas de corrente são raios $( \\theta \\>constante)$, e as linhas equipotenciais são círculos $( r \\>constante)$. E as linhas de corrente e linhas equipotenciais são mutuamente ortogonais em todos os pontos exceto na origem, que é um ponto singular.</p>\n",
    "<p>Em situações nas quais gostaríamos de colocar uma linha de fonte ou sumidouro em algum outro lugar que não seja na origem, devemos transformar as equações <del>perigosamente</del>, rsrsrs, na verdade, cuidadosamente. Para entender essa transformação com mais detalhes recomendo a leitura do livro Mecânica dos Fluidos Fundamentos e Aplicações, Çengel e Cimbala. É necessário um pouco de trigonometria para transformar as equações, e assim obteremos as funções em coordenadas cartesianas de uma fonte que está na localização absoluta (a,b):</p>\n",
    "<p class='md-math-block'>$\n",
    "\\psi = m \\tan^{-1} \\frac{y-b}{x-a} \\&gt;\\&gt;\\&gt;\\&gt;\\&gt;\\&gt; \\phi = m \\ln[\\sqrt([x-a]^2 + [y-b]^2)]\n",
    "$</p>\n",
    "<h2><em>3. Linha de vórtice irrotacional</em></h2>\n",
    "<p>Nosso terceiro é uma linha de vórtice (bidimensional) e de caso simples no qual a linha está localizada na origem, tendo um movimento permanente puramente circulatório, e mais uma vez usamos coordenadas cilíndricos por conveniência, $u_{\\theta} =  f(r)$ apenas, e $u_{r} = 0$, que são:</p>\n",
    "<p class='md-math-block'>$\n",
    "u_{r} =\\frac{1}{r}\\frac{\\partial \\psi}{\\partial \\theta} = \\frac{\\partial \\phi}{\\partial r} = 0 \\&gt;\\&gt;\\&gt;\\&gt;\\&gt; \n",
    "u_{\\theta} = -\\frac{\\partial \\psi}{\\partial r} = \\frac{1}{r} \\frac{\\partial \\phi}{\\partial \\theta} = \\frac {\\Gamma}{2 \\pi r}\n",
    "$</p>\n",
    "<p>onde $\\Gamma$ é chamado de <strong>circulação</strong> ou <strong>intensidade do vórtice</strong>. Seguindo a convenção padrão da matemática, $\\Gamma$ positivo representa vórtice no sentido anti-horário, enquanto $\\Gamma$ negativo representa um vórtice no sentido horário. </p>\n",
    "<p>Novamente, podemos integrar e determinar as funções apropriadas:</p>\n",
    "<p class='md-math-block'>$\n",
    "\\phi = \\frac{\\Gamma}{2 \\pi} \\&gt;\\theta \\&gt;\\&gt;\\&gt;\\&gt;\\&gt;\\&gt;\\&gt;\\&gt; \\psi = \\frac{\\Gamma}{2 \\pi} \\&gt;ln(r)\n",
    "$</p>\n",
    "<p>Como mostra o último esquema, as linhas de corrente são círculos $( r \\>constante)$ e as linhas equipotenciais são linhas radiais $( \\theta \\>constante)$. Observe a similaridade entre as Equações da linha de vórtice e linha de fonte, bah! é mesmo ... hehehehehe ...  pois o vórtice livre é uma espécie de imagem reversa de uma fonte. O “vórtice de ralo”, que se forma quando água é drenada por um orifício no fundo de um tanque, é uma boa aproximação para o padrão de vórtice livre.</p>\n",
    "<p>Em situações na quais gostaríamos de colocar o vórtice em algum outro lugar que não seja na origem, devemos transformar as equações conforme foi feita para uma linha de fonte. E assim obteremos as funções em coordenadas cartesianas de uma linha de vórtice que está na localização absoluta (a,b):</p>\n",
    "<p class='md-math-block'>$\n",
    "\\psi = \\frac{\\Gamma}{2 \\pi} \\&gt;ln[\\sqrt([x-a]^2 + [y-b]^2)] \\&gt;\\&gt;\\&gt;\\&gt;\\&gt;\\&gt; \\phi = \\frac{\\Gamma}{2 \\pi} \\&gt; \\tan^{-1} \\frac{y-b}{x-a}\n",
    "$</p>\n",
    "<p><strong><em>Conteúdo fornecido sob licença MIT. (c) 2018 Batystuta Rocha. Obrigado: Profa. Edith Beatriz pelo apoio ao conhecimento, muito obrigado. Versão 1.0 novembro 2018.</em></strong></p>\n"
   ]
  },
  {
   "cell_type": "code",
   "execution_count": 1,
   "metadata": {},
   "outputs": [],
   "source": []
  },
  {
   "cell_type": "code",
   "execution_count": null,
   "metadata": {},
   "outputs": [],
   "source": []
  }
 ],
 "metadata": {
  "kernelspec": {
   "display_name": "Python 3",
   "language": "python",
   "name": "python3"
  },
  "language_info": {
   "codemirror_mode": {
    "name": "ipython",
    "version": 3
   },
   "file_extension": ".py",
   "mimetype": "text/x-python",
   "name": "python",
   "nbconvert_exporter": "python",
   "pygments_lexer": "ipython3",
   "version": "3.6.5"
  }
 },
 "nbformat": 4,
 "nbformat_minor": 2
}
