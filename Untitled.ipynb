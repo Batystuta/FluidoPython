{
 "cells": [
  {
   "cell_type": "markdown",
   "metadata": {},
   "source": [
    "# Módulo 1. Soluções Elementares de Escoamento Plano Irrotacional\n",
    "\n",
    "<span style=\"font-family:Papyrus; font-size:4em;\">Este tópico apresento um estudo introdutório detalhado dos escoamentos incompressíveis não viscosos, especialmente aqueles que possuem ambas as funções, corrente e potencial de velocidades. Muitas soluções empregam o princípio da superposição, de modo que destaquei esse tipo de solução em um único módulo para melhor detalhe. Aqui vamos começar com os três escoamentos elementares, ilustrados na figura abaixo: (a) uma corrente uniforme em certa direção, (b) uma linha de fonte / sumidouro na origem e (c) uma linha de vórtice na origem.</span>"
   ]
  },
  {
   "cell_type": "code",
   "execution_count": null,
   "metadata": {},
   "outputs": [],
   "source": []
  }
 ],
 "metadata": {
  "kernelspec": {
   "display_name": "Python 3",
   "language": "python",
   "name": "python3"
  },
  "language_info": {
   "codemirror_mode": {
    "name": "ipython",
    "version": 3
   },
   "file_extension": ".py",
   "mimetype": "text/x-python",
   "name": "python",
   "nbconvert_exporter": "python",
   "pygments_lexer": "ipython3",
   "version": "3.6.5"
  }
 },
 "nbformat": 4,
 "nbformat_minor": 2
}
