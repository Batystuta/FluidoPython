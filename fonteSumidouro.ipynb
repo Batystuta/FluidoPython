{
 "cells": [
  {
   "cell_type": "markdown",
   "metadata": {
    "collapsed": true
   },
   "source": [
    "###### Conteúdo fornecido sob licença MIT. (c) 2018 Batystuta Rocha. Obrigado: Prof. Edith Beatriz pelo apoio ao conhecimento, muito obrigado."
   ]
  },
  {
   "cell_type": "markdown",
   "metadata": {},
   "source": [
    "##### Versão 1.0 novembro 2018"
   ]
  },
  {
   "cell_type": "markdown",
   "metadata": {},
   "source": [
    "# Fonte e Sumidouro"
   ]
  },
  {
   "cell_type": "markdown",
   "metadata": {},
   "source": [
    "Este é o primeiro notebook do material FluidoPython, para Escoamento Potencial. Se você não estiver familiarizado com a computação numérica usando o Python, primeiro estude Ferramentas em Python, fornecido como \"lição zero\" deste material.\n",
    "\n",
    "Você pode ler e acompanhar este caderno on-line, enquanto digita o código em seu próprio bloco de anotações Jupyter limpo ou em um arquivo .py no seu editor Python favorito. De qualquer maneira, certifique-se de experimentar os códigos e escrever suas próprias versões!"
   ]
  },
  {
   "cell_type": "code",
   "execution_count": 1,
   "metadata": {},
   "outputs": [],
   "source": [
    "import numpy "
   ]
  },
  {
   "cell_type": "code",
   "execution_count": 2,
   "metadata": {},
   "outputs": [],
   "source": [
    "#upyter nbconvert --to html --template basic "
   ]
  },
  {
   "cell_type": "code",
   "execution_count": null,
   "metadata": {},
   "outputs": [],
   "source": []
  }
 ],
 "metadata": {
  "kernelspec": {
   "display_name": "Python 2",
   "language": "python",
   "name": "python2"
  },
  "language_info": {
   "codemirror_mode": {
    "name": "ipython",
    "version": 2
   },
   "file_extension": ".py",
   "mimetype": "text/x-python",
   "name": "python",
   "nbconvert_exporter": "python",
   "pygments_lexer": "ipython2",
   "version": "2.7.6"
  }
 },
 "nbformat": 4,
 "nbformat_minor": 0
}
